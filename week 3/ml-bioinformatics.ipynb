{
 "cells": [
  {
   "cell_type": "markdown",
   "metadata": {},
   "source": [
    "# Machine Learning in Bioinformatics"
   ]
  },
  {
   "cell_type": "markdown",
   "metadata": {},
   "source": [
    "## Import the library"
   ]
  },
  {
   "cell_type": "code",
   "execution_count": 1,
   "metadata": {},
   "outputs": [],
   "source": [
    "# Import library\n",
    "from Bio import SeqIO"
   ]
  },
  {
   "cell_type": "markdown",
   "metadata": {},
   "source": [
    "## Import fasta dataset"
   ]
  },
  {
   "cell_type": "code",
   "execution_count": 2,
   "metadata": {},
   "outputs": [],
   "source": [
    "# Import dataset\n",
    "file_path = \"sequence.fasta\""
   ]
  },
  {
   "cell_type": "code",
   "execution_count": 4,
   "metadata": {},
   "outputs": [
    {
     "name": "stdout",
     "output_type": "stream",
     "text": [
      "['>NG_047557.1 Staphylococcus aureus N315 bleO gene for bleomycin binding protein, complete CDS\\n', 'CGGGCCATTTTGCGTAATAAGAAAAAGGATTAATTATGAGCGAATTGAATTAATAATAAGGTAATAGATT\\n', 'TACATTAGAAAATGAAAGGGGATTTTATGCGTGAGAATGTTACAGTCTATCCCGGCATTGCCAGTCGGGG\\n', 'ATATTAAAAAGAGTATAGGTTTTTATTGCGATAAACTAGGTTTCACTTTGGTTCACCATGAAGATGGATT\\n', 'CGCAGTTCTAATGTGTAATGAGGTTCGGATTCATCTATGGGAGGCAAGTGATGAAGGCTGGCGCTCTCGT\\n', 'AGTAATGATTCACCGGTTTGTACAGGTGCGGAGTCGTTTATTGCTGGTACTGCTAGTTGCCGCATTGAAG\\n', 'TAGAGGGAATTGATGAATTATATCAACATATTAAGCCTTTGGGCATTTTGCACCCCAATACATCATTAAA\\n', 'AGATCAGTGGTGGGATGAACGAGACTTTGCAGTAATTGATCCCGACAACAATTTGATTAGCTTTTTTCAA\\n', 'CAAATAAAAAGCTAAAATCTATTATTAATCTGTTCAGCAATCGGGCGCGATTGCTGAATAAAAGATACGA\\n', 'GAGACCTCTCTTGTATCTTTTTTATTTTGAGTGGTTTTGTCCGTT\\n', '\\n']\n"
     ]
    }
   ],
   "source": [
    "# Read bio-data in FASTA format\n",
    "with open(file_path, 'r') as seq_file:\n",
    "    fasta_content = seq_file.readlines()\n",
    "    print(fasta_content)"
   ]
  },
  {
   "cell_type": "code",
   "execution_count": 5,
   "metadata": {},
   "outputs": [
    {
     "data": {
      "text/plain": [
       "['>NG_047557.1 Staphylococcus aureus N315 bleO gene for bleomycin binding protein, complete CDS\\n',\n",
       " 'CGGGCCATTTTGCGTAATAAGAAAAAGGATTAATTATGAGCGAATTGAATTAATAATAAGGTAATAGATT\\n',\n",
       " 'TACATTAGAAAATGAAAGGGGATTTTATGCGTGAGAATGTTACAGTCTATCCCGGCATTGCCAGTCGGGG\\n',\n",
       " 'ATATTAAAAAGAGTATAGGTTTTTATTGCGATAAACTAGGTTTCACTTTGGTTCACCATGAAGATGGATT\\n',\n",
       " 'CGCAGTTCTAATGTGTAATGAGGTTCGGATTCATCTATGGGAGGCAAGTGATGAAGGCTGGCGCTCTCGT\\n',\n",
       " 'AGTAATGATTCACCGGTTTGTACAGGTGCGGAGTCGTTTATTGCTGGTACTGCTAGTTGCCGCATTGAAG\\n',\n",
       " 'TAGAGGGAATTGATGAATTATATCAACATATTAAGCCTTTGGGCATTTTGCACCCCAATACATCATTAAA\\n',\n",
       " 'AGATCAGTGGTGGGATGAACGAGACTTTGCAGTAATTGATCCCGACAACAATTTGATTAGCTTTTTTCAA\\n',\n",
       " 'CAAATAAAAAGCTAAAATCTATTATTAATCTGTTCAGCAATCGGGCGCGATTGCTGAATAAAAGATACGA\\n',\n",
       " 'GAGACCTCTCTTGTATCTTTTTTATTTTGAGTGGTTTTGTCCGTT\\n',\n",
       " '\\n']"
      ]
     },
     "execution_count": 5,
     "metadata": {},
     "output_type": "execute_result"
    }
   ],
   "source": [
    "# Display few lines\n",
    "fasta_content[:20]"
   ]
  },
  {
   "cell_type": "markdown",
   "metadata": {},
   "source": [
    "## Import protein dataset"
   ]
  },
  {
   "cell_type": "code",
   "execution_count": 6,
   "metadata": {},
   "outputs": [],
   "source": [
    "# Import dataset\n",
    "file_path = \"protein.fasta\""
   ]
  },
  {
   "cell_type": "code",
   "execution_count": 7,
   "metadata": {},
   "outputs": [
    {
     "name": "stdout",
     "output_type": "stream",
     "text": [
      "[\">YP_010963491.1 nucleocapsid protein [Bird's-foot trefoil nucleorhabdovirus]\\n\", 'MADITLEELKAIRPQYTSLSSVLRPEISSGQCVHREYTFQDAARFPIYKVRDLKNDEIVSIFKNITEVKK\\n', 'SLNERDLYNIVSIALNVKDPFTNQRTIPDPFTPDVRCADFETAQPSESSEVNMLKEGGVHTITTIVPTSV\\n', 'PMETSDSPTESIDEQASAICFLFAWLTRYVVKSPSQALSIQYSKVQDTYMKFYQKSSKIFDKFQADKLWI\\n', 'LSLRNAFDAFLRVRNTLVLYVANAETVSKATPRIFNLLRYLFFQNLEFMGMHAYVSIVMIMSRIALPPAQ\\n', 'ILTWLRMSGSELAIDEAYKIMANHDNGMKEGGATSERLWKYARILDAGYFNQLQTSYAAELIATLAYIEI\\n', 'KLGISKEAGHSSPLNITVIADNKHIRDIGKAKAEAFMECKARSISLARDASAVDKIYAKRMGLDVSNLPP\\n', 'PERPGHSQKRKEPVEAPRSEPVLPIKKPRDPPGRNIPPPPPF\\n', '\\n']\n"
     ]
    }
   ],
   "source": [
    "# Read bio-data in FASTA format\n",
    "with open(file_path, 'r') as seq_file:\n",
    "    fasta_content = seq_file.readlines()\n",
    "    print(fasta_content)"
   ]
  },
  {
   "cell_type": "code",
   "execution_count": 8,
   "metadata": {},
   "outputs": [
    {
     "data": {
      "text/plain": [
       "[\">YP_010963491.1 nucleocapsid protein [Bird's-foot trefoil nucleorhabdovirus]\\n\",\n",
       " 'MADITLEELKAIRPQYTSLSSVLRPEISSGQCVHREYTFQDAARFPIYKVRDLKNDEIVSIFKNITEVKK\\n',\n",
       " 'SLNERDLYNIVSIALNVKDPFTNQRTIPDPFTPDVRCADFETAQPSESSEVNMLKEGGVHTITTIVPTSV\\n',\n",
       " 'PMETSDSPTESIDEQASAICFLFAWLTRYVVKSPSQALSIQYSKVQDTYMKFYQKSSKIFDKFQADKLWI\\n',\n",
       " 'LSLRNAFDAFLRVRNTLVLYVANAETVSKATPRIFNLLRYLFFQNLEFMGMHAYVSIVMIMSRIALPPAQ\\n',\n",
       " 'ILTWLRMSGSELAIDEAYKIMANHDNGMKEGGATSERLWKYARILDAGYFNQLQTSYAAELIATLAYIEI\\n',\n",
       " 'KLGISKEAGHSSPLNITVIADNKHIRDIGKAKAEAFMECKARSISLARDASAVDKIYAKRMGLDVSNLPP\\n',\n",
       " 'PERPGHSQKRKEPVEAPRSEPVLPIKKPRDPPGRNIPPPPPF\\n',\n",
       " '\\n']"
      ]
     },
     "execution_count": 8,
     "metadata": {},
     "output_type": "execute_result"
    }
   ],
   "source": [
    "# Display few lines\n",
    "fasta_content[:20]"
   ]
  },
  {
   "cell_type": "markdown",
   "metadata": {},
   "source": [
    "## Applying machine learning to bio-data"
   ]
  },
  {
   "cell_type": "code",
   "execution_count": 1,
   "metadata": {},
   "outputs": [],
   "source": [
    "# Import library\n",
    "from sklearn.feature_extraction.text import CountVectorizer\n",
    "from sklearn.naive_bayes import MultinomialNB"
   ]
  },
  {
   "cell_type": "code",
   "execution_count": 2,
   "metadata": {},
   "outputs": [],
   "source": [
    "# Sample data\n",
    "sequences = [\"ATGCGT\", \"ATCGTG\", \"GCTTAA\"]\n",
    "labels = [1, 0,1] # 1: promoter, 0: non-promoter"
   ]
  },
  {
   "cell_type": "code",
   "execution_count": 3,
   "metadata": {},
   "outputs": [],
   "source": [
    "# Vectorize sequence\n",
    "vectorizer = CountVectorizer(analyzer='char', ngram_range=(2, 2))\n",
    "X = vectorizer.fit_transform(sequences)"
   ]
  },
  {
   "cell_type": "code",
   "execution_count": null,
   "metadata": {},
   "outputs": [],
   "source": [
    "# Train classifier\n",
    "classifier = MultinomialNB()\n",
    "classifier.fit(X, labels)"
   ]
  },
  {
   "cell_type": "code",
   "execution_count": null,
   "metadata": {},
   "outputs": [],
   "source": [
    "# Make prediction\n",
    "new_seq = [\"ATGCGT\"]\n",
    "X_new = vectorizer.transform(new_seq)\n",
    "print(f\"Prediction: {classifier.predict(X_new)}\")"
   ]
  }
 ],
 "metadata": {
  "kernelspec": {
   "display_name": ".bioinformatics",
   "language": "python",
   "name": "python3"
  },
  "language_info": {
   "codemirror_mode": {
    "name": "ipython",
    "version": 3
   },
   "file_extension": ".py",
   "mimetype": "text/x-python",
   "name": "python",
   "nbconvert_exporter": "python",
   "pygments_lexer": "ipython3",
   "version": "3.10.4"
  }
 },
 "nbformat": 4,
 "nbformat_minor": 2
}
