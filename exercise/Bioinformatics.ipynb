{
  "nbformat": 4,
  "nbformat_minor": 0,
  "metadata": {
    "colab": {
      "name": "Bioinformatics.ipynb",
      "provenance": [],
      "private_outputs": true,
      "collapsed_sections": [],
      "include_colab_link": true
    },
    "kernelspec": {
      "name": "python3",
      "display_name": "Python 3"
    },
    "accelerator": "GPU"
  },
  "cells": [
    {
      "cell_type": "markdown",
      "metadata": {
        "id": "view-in-github",
        "colab_type": "text"
      },
      "source": [
        "<a href=\"https://colab.research.google.com/github/callezenwaka/Bioinformatics/blob/master/Bioinformatics.ipynb\" target=\"_parent\"><img src=\"https://colab.research.google.com/assets/colab-badge.svg\" alt=\"Open In Colab\"/></a>"
      ]
    },
    {
      "cell_type": "code",
      "metadata": {
        "id": "SB7OdpHpcJRX",
        "colab_type": "code",
        "colab": {}
      },
      "source": [
        "dna_strand_1 = 'GTCCGTCCGAGGGAAATTGCGCATTCTGG'\n",
        "dna = list(dna_strand_1)\n",
        "# dna1 = [ch for ch in dna]\n"
      ],
      "execution_count": 0,
      "outputs": []
    },
    {
      "cell_type": "code",
      "metadata": {
        "id": "HEGog2dVcdn8",
        "colab_type": "code",
        "colab": {}
      },
      "source": [
        "def gc_content(dna):\n",
        "  gc =0;\n",
        "  for base in dna:\n",
        "    if base == 'C' or base == 'G':\n",
        "      gc += 1;\n",
        "  return (float(gc)/len(dna)) * 100\n",
        "\n",
        "# print(gc_content(Rosalind_6404))\n",
        "# print(gc_content(Rosalind_5959))\n",
        "# print(gc_content(Rosalind_0808))"
      ],
      "execution_count": 0,
      "outputs": []
    },
    {
      "cell_type": "code",
      "metadata": {
        "id": "emfHVtpDhOUP",
        "colab_type": "code",
        "colab": {}
      },
      "source": [
        "def gc_content(dna):\n",
        "  return float(dna.count('G') + dna.count('C'))/len(dna)"
      ],
      "execution_count": 0,
      "outputs": []
    },
    {
      "cell_type": "markdown",
      "metadata": {
        "id": "_Z5eog2dkmro",
        "colab_type": "text"
      },
      "source": [
        "# Reverse complement"
      ]
    },
    {
      "cell_type": "code",
      "metadata": {
        "id": "35IDxqk4hine",
        "colab_type": "code",
        "colab": {}
      },
      "source": [
        "# Reverse complement\n",
        "def reverse_complement(dna):\n",
        "  complement = {'A': 'T', 'C': 'G', 'G': 'C', 'T': 'A'};\n",
        "  return ''.join([complement[base] for base in dna[::-1]]);"
      ],
      "execution_count": 0,
      "outputs": []
    },
    {
      "cell_type": "markdown",
      "metadata": {
        "id": "dMls_J9DjmIY",
        "colab_type": "text"
      },
      "source": [
        "# Humming distance"
      ]
    },
    {
      "cell_type": "code",
      "metadata": {
        "id": "RUCDLCEzjHz_",
        "colab_type": "code",
        "colab": {}
      },
      "source": [
        "# Count in how many places two strings differ\n",
        "dna_strand_1 = 'GTCCGTCCGAGGGAAATTGCGCATTCTGG'\n",
        "dna_strand_2 = 'GTCTGTCCGACGGAAATTGCACATTCTGG';\n",
        "def hamming(lhs, rhs):\n",
        "  total = 0;\n",
        "  for i in range(len(lhs)):\n",
        "    if lhs[i] != rhs[i]:\n",
        "      total += 1;\n",
        "  return total;\n",
        "\n",
        "hamming(dna_strand_1, dna_strand_2)"
      ],
      "execution_count": 0,
      "outputs": []
    },
    {
      "cell_type": "code",
      "metadata": {
        "id": "8dqBMHtWkG38",
        "colab_type": "code",
        "colab": {}
      },
      "source": [
        "# Count in how many places two strings differ using optimised functional code\n",
        "def hamming2(lhs, rhs):\n",
        "  return len([(x, y) for x, y in zip(lhs, rhs) if x != y])\n",
        "\n",
        "hamming2(dna_strand_1, dna_strand_2)"
      ],
      "execution_count": 0,
      "outputs": []
    },
    {
      "cell_type": "markdown",
      "metadata": {
        "id": "CbX9rNkDkqMA",
        "colab_type": "text"
      },
      "source": [
        "# Finding Motifs\n",
        "Sequence motifs are short, recurring patterns in DNA that are presumed to have a biological function"
      ]
    },
    {
      "cell_type": "code",
      "metadata": {
        "id": "aHyw8bAYktIP",
        "colab_type": "code",
        "colab": {}
      },
      "source": [
        "# Given some DNA, print all the 5-mers (k-mers)\n",
        "k = 5;\n",
        "for i in range(len(dna_strand_1) - k + 1):\n",
        "  print(dna_strand_1[i:i+k])"
      ],
      "execution_count": 0,
      "outputs": []
    },
    {
      "cell_type": "code",
      "metadata": {
        "id": "ietZLd7jY18b",
        "colab_type": "code",
        "colab": {}
      },
      "source": [
        "Rosalind_6404 = 'CCTGCGGAAGATCGGCACTAGAATAGCCAGAACCGTTTCTCTGAGGCTTCCGGCCTTCCCTCCCACTAATAATTCTGAGG'\n",
        "Rosalind_5959 = 'CCATCGGTAGCGCATCCTTAGTCCAATTAAGTCCCTATCCAGGCGCTCCGCCGAAGGTCTATATCCATTTGTCAGCAGACACGC'\n",
        "Rosalind_0808 = 'CCACCCTCGTGGTATGGCTAGGCATTCAGGAACCGGAGAACGCTTCAGACCAGCCCGGACTGGGAACCTGCGGGCAGTAGGTGGAAT'\n",
        "\n",
        "print(\"%.6f\" % gc_content(Rosalind_6404))\n",
        "print(\"%.6f\" % gc_content(Rosalind_5959))\n",
        "print(\"%.6f\" % gc_content(Rosalind_0808))"
      ],
      "execution_count": 0,
      "outputs": []
    },
    {
      "cell_type": "code",
      "metadata": {
        "id": "8uLd9kFcTWmH",
        "colab_type": "code",
        "colab": {}
      },
      "source": [
        "from google.colab import files\n",
        "\n",
        "uploaded = files.upload()\n",
        "\n",
        "for fn in uploaded.keys():\n",
        "  print('User uploaded file \"{name}\" with length {length} bytes'.format(\n",
        "      name=fn, length=len(uploaded[fn])))"
      ],
      "execution_count": 0,
      "outputs": []
    },
    {
      "cell_type": "code",
      "metadata": {
        "id": "thVBapdXVQKa",
        "colab_type": "code",
        "colab": {}
      },
      "source": [
        "def gc_content(dna):\n",
        "  gc =0;\n",
        "  for base in dna:\n",
        "    if base == 'C' or base == 'G':\n",
        "      gc += 1;\n",
        "  return (float(gc)/len(dna)) * 100"
      ],
      "execution_count": 0,
      "outputs": []
    },
    {
      "cell_type": "code",
      "metadata": {
        "id": "z52RQndMMwQZ",
        "colab_type": "code",
        "colab": {}
      },
      "source": [
        "# Find \n",
        "import pickle\n",
        "from google.colab import files\n",
        "\n",
        "uploaded = files.upload()\n",
        "\n",
        "for fn in uploaded.keys():\n",
        "  filename = fn\n",
        "  seq_name = filename.split('.')[0]\n",
        "  # seq_name = re.sub('[%s]' % re.escape(string.punctuation), '', seq_name)\n",
        "  with open(filename) as input_file:\n",
        "    result = ''\n",
        "    for line in input_file:\n",
        "      result += ''.join(line.split())\n",
        "\n",
        "  result = re.sub('\\w*\\d\\w*', '', result)\n",
        "  result = re.sub('[a-z]','',result)\n",
        "  result = re.sub('[%s]' % re.escape(string.punctuation), '', result)\n",
        "  # result = seq_name + \" = \" + \"'\" + result + \"'\"\n",
        "  \n",
        "  print(seq_name)\n",
        "  print(\"%.6f\" % gc_content(result))\n",
        "  with open(\"result.txt\", \"wb\") as file:\n",
        "    pickle.dump(result, file)\n",
        "  # print(result)"
      ],
      "execution_count": 0,
      "outputs": []
    },
    {
      "cell_type": "code",
      "metadata": {
        "id": "dRUI1F9yRv3Y",
        "colab_type": "code",
        "colab": {}
      },
      "source": [
        "def gc_content(dna):\n",
        "  gc =0;\n",
        "  for base in dna:\n",
        "    if base == 'C' or base == 'G':\n",
        "      gc += 1;\n",
        "  return (float(gc)/len(dna)) * 100\n",
        "\n",
        "print(gc_content(Rosalind_2220))"
      ],
      "execution_count": 0,
      "outputs": []
    },
    {
      "cell_type": "code",
      "metadata": {
        "id": "NpOgrI5BWJEJ",
        "colab_type": "code",
        "colab": {}
      },
      "source": [
        "# Mendel's First Law\n",
        "def mendel(k, m, n):\n",
        "  result = 0\n",
        "  lst = [k, m, n, result]\n",
        "  k, m, n, result = map(float, lst)\n",
        "  result = ((k*k - k) + 2*(k*m) + 2*(k*n) + (.75*(m*m - m)) + 2*(.5*m*n))/((k + m + n)*(k + m + n -1))\n",
        "  return round(result, 5)\n",
        "\n",
        "mendel(24, 15, 16)"
      ],
      "execution_count": 0,
      "outputs": []
    },
    {
      "cell_type": "code",
      "metadata": {
        "id": "uDpiktGjScjE",
        "colab_type": "code",
        "colab": {}
      },
      "source": [
        "\"\"\"\n",
        "# Our parameters are k (dominant), m (hetero), & n (recessive). \n",
        "# First I found the probability for each possible breeding pair selection \n",
        "# in terms of percentage of the population. So, a first round choice for k \n",
        "# would look like k/(k+m+n), and a second round choice of k \n",
        "# after a first round choice of k would look like (k-1)/(k+m+n). \n",
        "# Then multiply these two to get the outcome. Since there were three identified populations, \n",
        "# there were nine possible outcomes.\n",
        "\n",
        "# Then I multiplied each outcome by it's dominance probability - 100% for anything with k, \n",
        "# 75% for m&m, 50% for m&n, n&m, and 0% for n&n. Now add the outcomes together, and you have your solution.\n",
        "# Start of C# code\n",
        "# def mendel(double k, double m, double n){\n",
        "#   double prob;\n",
        "#   prob = ((k*k - k) + 2*(k*m) + 2*(k*n) + (.75*(m*m - m)) + 2*(.5*m*n))/((k + m + n)*(k + m + n -1)); \n",
        "#   return prob;\n",
        "# }\n",
        "#  End of C# code\n",
        "\"\"\"\n",
        "# Start of python code\n",
        "lst = ['24', '15', '16']\n",
        "k, m, n = map(float, lst)\n",
        "t = sum(map(float, lst))\n",
        "# organize a list with allele one * allele two (possibles) * dominant probability\n",
        "# multiplications by one were ignored\n",
        "# remember to substract the haplotype from the total when they're the same for the second haplotype choosed\n",
        "couples = [\n",
        "            k*(k-1),  # AA x AA\n",
        "            k*m,  # AA x Aa\n",
        "            k*n,  # AA x aa\n",
        "            m*k,  # Aa x AA\n",
        "            m*(m-1)*0.75,  # Aa x Aa\n",
        "            m*n*0.5,  # Aa x aa\n",
        "            n*k,  # aa x AA\n",
        "            n*m*0.5,  # aa x Aa\n",
        "            n*(n-1)*0  # aa x aa\n",
        "]\n",
        "# (t-1) indicate that the first haplotype was select\n",
        "print(round(sum(couples)/t/(t-1), 5))"
      ],
      "execution_count": 0,
      "outputs": []
    },
    {
      "cell_type": "code",
      "metadata": {
        "id": "0kM3hm6OScgR",
        "colab_type": "code",
        "colab": {}
      },
      "source": [
        "rna = 'AUGCCUUCCGUAUCUGGAGUGGCUCGUUGGACAUGUGGAUCACUGAGCAGAUCGAACAGCCUCCGUAGACGAUACCAGCAGUGCCUUCAUUCUAAAUGGCUGACUGCGCCAAGGACCACACAACGGGUGAUAAGCCAGGCGUGUAUCCUUCAAUUCAACCGUGGCGCCAUUACAGUACUCUAUGAAAAGGCGGUCCGAGAGUUUCGGCGGUGGCUGAAUUUGUCCACAGACUUACACCCACUCCGGUACAUUCCUUGCCAACGCUGUAAGAAGUGCGCAUAUAUAGAGAUUUAUCCAUUGUCAAGUCGAGACCCGUCUUCCACCUACGUAUGCAAGUCGAAGGGUCAAAUACCUGUCAUGAUUAGAGCCCAUAUGCCUACAGGAUCUGGAAAGGGUAGGGUAGGUAUCGCAGCUGCCUGUAGAGCACUUUCCGCCAUUGUCGAAGGCCCAACACGCCCUCAGAAAUCGACUGCCGGCGCGUCUAUGGCUCCUCAUGAAAACACUUGUCAGGAUUUUACGCAACAACCAGUGUUGGCUGACUAUUCAGGAUGCACCGGGCUCGCAAAGUAUCGUGUACACGCCCUUAAUGAACGGACAGGCACCGGGGCGAGGUAUCCAUGCCAUAGAUACUCCGAAGCGCUGCGGUCCAUCCCUGGGAAAUUAAGUACCGGUAGUGGGAAAGAGUGUAUCACCAUAAUAACAUUCCUGUGGCAUCAGUGCACUAUAGGCGUACCGCUCAGCUGGGGUCCUUUUUCCCGCACCCCCAAAACGAAUUAUAUCAACGGGAUUGUUCAGAGUUGUUCACGAGAGGGAAUUACGCUAAGACUCACCCGCAUUGUAGAUAAGAAACUCUGGCCUUACAUACGUAGGCCAAAUGCCACAGGCCGUUAUAGCACUUUUAAUCGCCUUACGCCGGUUAUGGGGAGAGUCUACAUGGUAUCCCCCCGAUCUGGGCCCAGGCUUAAGCACCUAGCAUUUAGCGGUCUUACGUUCUUAUCAUUAGACCAAUCAUUCGCAAAGACAUCGCCAGUCCUAUUAGCUAACGCCUUUAUAUGGAUGGGAGCCCUAUCCUGCAGUGUGUGUUGGAUCCACCAUUAUGGACACCUAAACACUUUGGCUGAUUCCGAGAGGAGACAUACGCAACCUCGAAAUCGCGUGAUGAUGCGAUGGCACUGUAGUUGGAUUUCAGGGAGUUACAUGAAGGUCACCACACUGGGGCGUGUAGGCCGACGACCGGGGGACUUCCGUUUAUGUGGUCCCCCCACGUUUUCCCCCUUUCCUUCUCCGCACCCAGGGAUGGAAAGCGAUGGGCUCACGGGGAUCCGUAGUUUAGACCCAAGCUUCAUGGUGAAUCCAUCAAGGCUUGCGGUUCGAACACCGCCGCGUGCCGCCAAAAAUGCUACUGUCCAAUCGUCGCUCCUAGGCUCGAUUUAUAAGGCAAGCACGAUACGACCUAAAACGCAUGAAUGUCGGGUGACGGCACUACCGAGUAGGAUGAACCCCAAUUCUGAAAUCCCAAUGACUCUCCUGCCAAAUUCAAUUCCGGUUCACAUCCGCCCGCAUUUUACCUCUAACACGCAAAGUCGUCUCGCAAACGUACUUGCGCAGUGCCAGAUGUUUUGUGGAUUGUGGCAAGAAUCAUUCCACACCUUCGCAACAACUGCAGACCUCAAGGUGAAUUCUGUUGUGGUCGGAAACCCGGACGCUGGCAUGGGCAUACGAUUCUCUUAUGAGUUGGUCUGUACCGAUGCUACGCGACUAAAGAGGGUUACGCUCAGGAGCAUAUUCACGUCAGUCACCGCUGUGCAUAGCUACAUGUACAAACUUACUUUGGCAGAUUCAGGCUCGCUGGCUAACCCUUCGAGACCAACACUUUUAUUCUUUAGCGUUAGGGGAAGUGAUAGAGAGGAUGGCCGUCUUCUACUCAAACUCUGUGUCAAAUCCAGUAGUACGCAGGUAAGCUUCUUACUUGCAUCGCGAGUAAAAAAUCGUUUCGACACGUUAUCUUCGAGCUUGAAGCAUUAUUGCGGAGUAACUAUCUCUAUGCAUUCUAUCCGAGUAUAUCCGUUGUCCGUGGAUCAGAAUCGGUCCAUGACGCCUCGUAGGUACGCCGAGGCUAGCGAGUCAUCACAGGAAAACUACGGGGAAAAUAAUUUUGUGGUGAAUCCUGGGCAUGGAAUUAGGAACUUGCAAUGGUGCACGACAGUGAACAAUGAAGGAGGCAGUGAAACAGAGAUAACGUCUUGCCGUAUAUGGCAUAUCCGGACGAUACGGGGCCUCUGGUACGCUAAACGCAUGCUGGGGCCCGUCUACAACGAUGAUCCUAGAUCCGGACCUCGUGAGAGAAGAAUAGAAUCUUGUAUUGGUAAAUGCAACCGGACAUUAGUAAUACUUGCAGAUCUCACGCGUAAAGUAUGCGGGUUUUCCACUGGAAGGGUAACCACAAGCCGUACACACCUCCAAGCAGUGAGACCGUGGAACAUAAACGGCUCUGGCCGUAUUGCCUUCGAGGGACCUGGACAUUUGCUGAUCACUAUUGAAUCAUUAUCUUAUUCCCCGGCAUCUAGUGACAUAUGGGAAGCGGCCGGUAAGAUCGAUUAUCGCCAUGCAAGUCAAGCAUUAUGUUCCACCUACUUUACCCUCCUCUCCAUGACGUAUAAGGGGACGUUUUACUCUAUUUCGUACUCAACCAGUAUUGCGUUGCAGCAUAUGCGCCCUCGACACGUUCGAAAACGUGAUUUACAGUGGUUGAAGAGCCGGUCGAAACAACGUCUUAGGCGUGAGCGUAUCUUCGACUCCUGGCAACUUGACAAGGACACAAUCGAGCACAUUAGAGCCCCGUUCCAUUCUCGGCACCCCUGGUGGAGAACACCAACAAACAGACUUUCGAGUCGGUACCAUAGCGCCCCGCUGAGGUUGAUGGCGGUCUGUCGUUAUACUCCAGUCACACCUUGCAGCACCGGCAAGAAACGACUCAACGCUUUCCGACCUCAAGCGUUAGUGGACUUUAUUCCGUCACACCCCCAUUUCACAAGCUGCGGUCUGCCGGGCUCCUCCUGCACAGUUAUAAUCCGUGUUCCAACCCCACAACUAACUCCAAAUCGUAUCAAGUGGCCACAAGCCCGCGUAAUCGCACGCAGAAGUCAAAAUCGGAAGGUUCGCGAACGCUGGUUAAGUUCGCACCCGCAUUGCUGGGUCGGUCAUGCACUCGACGCUCUACAGGCAAAAAUGCCACCCGAGUUUCCCCAUUGCAAUUACUACUCGCCCGUACUGGUAGCUCACUACCAUAUGUUGCAUUUGAAGUGGGCACGGCAACAACGGCAUAACACUAGAGUCGCGCAGCAAUUCUUCGAUUCUGUCCCACAUAUCUUCAAUCACUGGAGACUCGGUGUGGACCAUUUGAAAUCGAGUCCCGGUCACGCGAUAGCUCCCUCCUGGUCUAUGUCCCAGAUGCCGAGAGAGUGCCAUGUGAUAGAGUCCCCCCCCCAGACCGACCGACGUACGCGCAGUGCGGAUAAGUUUGCUCAGCAGUUGGGAUUCCAGAGAGUCUCUAGGGUGUUGCGCGCAACCUCCAACGCUGCACACUAUAAUGCAGUUACAUAUAAGCCUAGAUCGAGGCAUCGGGGUGUCGUUGUGGACACUAUGGGCGUAGAUCUCCAUAGAAGUAUCGGGCAGGACUGGACGCAUGUCCCACCAUACGGUUCCUCGACUCGACCGAAGCAGAAUCCAUUAACCUCCGGUGCAAAACCGGGGGUGCAUACAUAUCGCUACACGCACGUCAGUAUCUAUAACAGUCGAAAAAGUUCUAAUUUCUCACACUCCCCGCCAACGUUUUCCCGAGUUACACGCCCAAUUCGAUAUAAUACCGAGCGUAAAACACGUCCAGUCGGGCAGGGCGGUACAGAAUACGCGGUGCUCAGUUCCGGUCUGUAUACAAACUUAGAGUGCUCCGCUUUUGCGGUCACUAGUAUACAUUGGGUAGCUUAUCUACAAACUACAAACCAAGGUUGUAAACCGCGUAGUAGGUUUCAAAGGCGUAGUCCAAGGUGUAUUAUAGUUAGAUUUCAGGUAUUGCUUUUCCCAUUUAGAGUCCCCAAUGCAACACUCCCCGUGGAACCAGCUAGGCUUCGCUUUGACGUAGUCCCCGCUGAUUUCAGAGGACAUCCCCACCCUUAUGGGGCCGGUGUAUUUCUGCCAUCUCAAUAUUCAAAGGGGCGUCUAACUACCUCGACUAAGAGACUCUCUCUUGACCCUUGCAUAAAAAGAACUGCGAGGCUGCCCAGAGAUAGCUUACCCCUUUCAUGGAGUACCGGGGCCGACGCGUCUUUCUCGAGUUGUCCGAGACCUUCAUCGCGCUUCGCGGAACGCCGGACAGUGUUGCAAGUCAAUUGUUGGUUUGCCGUUAGUCAUCAUGGUUUACGCUCACUAUCUACCACGCAAAUACCACAGUUUUCAGUCUCUGCCCUAUUAAACCCAAAUAAAAUCGUCUCCUGCUGUUGUCCCCAGGGUCCUUUCUCGCCACAAACUACGACCGAUCGGGCCUUGGGGACAUGUCCUCGUCGACUCCUUAGUGUCAGUCGUUCGCAUGAGUUUCGACAUCCGCGAUGCGUCCUGCAUCCGCAAUGCUCUUCGGACCGGUAUACCGUAUGGUGGCCAUCGCGACGCAACUCGCAGUGCGAGCUGAUAAACUCCACUGGGUCGCGACUUGUUCGACGUCCACACACUAGUAUUCACUUGGCAAGUUAUGCUAGAUGGGUACCGGAUUAUUUCUUUGUAAUGUUGAGUCAAGAAGCGCAAGGGACGGUACCAACCAAAUUUCGGCGCGGACAGUUUGGAAUUCCUCAAGCCGUACAAGAUCCCUUAGGACUCGUCACCGGCUUUCCGGGCAAUCCCCUGCACGCUUUUUACGAGAUCCCUCGCCUUAUGUGCUCUCGUAGUUUAGUUCUGGUCGGGAAGCUGACUGUCAUGCUACGGCAUCGGAUGGUAUCAAUGGAACCCGGCACCGAUCCGUCAUUCAUGCUUUUAGACCUAGUUGCAAGCGAUUAUCCUGCGUCACCCACAUUGACUCACAACGCUGGAUUUAGUUAUCACCGCUUUCCAAGCACGUGCUACUGUCGGGAAGGACCCGCUCACGCGAGUGCACCAUUUUCACCUGCAGAUGUGAUGCAGGGACAGUCCAGCACCUACAGCACGUUCGGAGUGAAACGAGGCUUUAAAGUGGUGGCUCAACGUUAUCCCGCCUGUCACAGACGGUGCCGCAGACGUUGUGAGAACGGCAUGGUUUCACUUCAAAUGGCCGUAACCCCAUUUACAAUCAUAAAUCACAUUCCUUUUGCUAUCAACCCACGGCGGGCCCAACUACGCUCUACGUCACCUCAUUUGAUCGGCGGAGUAGCCACCAGGCGUACCUUCCAAUUGUCCCGUGUGGGCAUUAGUCUCAAGGUAGUUUAUCUACACGCUAUAACGGGUUUAAAACCAGGCCGUCACGCACCUAGGUUUUUCCGAACUCGUAUGAACGAGCAACCUAACCGUUCUCAAAGGGCCGGCUCCUCACUUAUGGAACCUACUAAAGCGGUGUUCUUCUUUACUACACUUUUUACAUGUCCUUUAGACUAUCCGGUUUGUCUUAGGCAGGUAACCGCCAUGUCUGACGAGACAGACGGCAGCGGAUCUAGGGGGAGUGUCAGAAUGCAAACAGAGAAGAGAGGUCUUCCUGUAACCAAGACAUUCCAACGCUGUGUACAAUUUCGCUAUAUACAGACCUAUCCGAGUUGGAUCCCUCUCAUAUUCUAUGUCAGUCAUUCAGAUCUGAAGGCACUCCCGGCCAUUCAAAAGUAUCGGCCAUAUCAGAUAAGCGAGAAGUUGUGCGGUCCCGCAAGUACAUCAGCGUUCAGGCGCUCACCCUCGAAAACUACUUCCGCGCAUACCUGCGAGUGCCGGGAAAAUCCCAGAACCCGAUACCCCAUGAGAGAGCUGGCAGAGCCCCAAAUACCUUUGGACGGUGGACAGGGAAUCAUCCGUGAUAAAGCAUUUUCUCUGGUCAAUGGAGCGACGCAGGCUCCGCUUGUAAUACCACGGGCUCCCUACGGGAGACUAUGGGAAAGUCGUCAUCCAGCUGUGCACCAGAUGGUAGUGGUGUCAACAUCCUCAACUAGUAGCUAUCUAUGGACGCUGGUGAGUCCAGAGAUCGGAGCCGAUAAUCAGUGUCUCAGGGGGAGUCGAGCACCAGGAACGGAGUCAUCAUUUCAUACUCUUUCGUCUCCUGCCGACUAUUUCUGUCGCGAUCGGAAUAGGCCUAAUUCAUGUCUUACCAUACGACGUCGCGUGCAACUCAGGCUUGCUGACGUGGAUACACAGUGUAGUAGGUCCACCCACUUACUCCUGAGCCGCUGGAGAGCGCGUGCAGACCAGCUAGAGCCGACUCCAUAUGUGAAGUUGAUACUUAGGAUACAUGUUCCUAAGUCCAUGGUCUACAUCGGCGGAUGGGUCAGAAUAAGCUUACUGGGUUAUCUUUUCCCCAACCGGCGACUGUGCCCCAACUAUGCCGUGAACUUCCCCUCUCGCCACCUUAUCAGUCGUGAUCCGCCUAUGCUACACAGAUACCUGAGACCCCCUGUGCACAGUGUAAUGUGGGUGGUAUUCCACAGAUAUAUGACACUUCUGAAGAAGGGGAGCACUAUCGCGUGGGGUACCGCUCCUCCUGCGCGAGCCUGGUCUACAGCACACGGUUGCCUACAGACACUCAACCUAACCACGCACCGACGUUUCAGCUUUCUCGUGCACCGGCAUGCAAGUGCGGAAGAUCGCCGACCAACAGAUGGGGACGACUCGGCUCUCGUCGUCGACACAGACUCCAUUAGGUUCGGUUUCGAGCGACGCCGCUUGUACGACCCCUCAGAUCAUUCACGGACCGAUUGGAACCCGAUGGCUCGAGAUAGCUCACAUUACCAUGACAGCAUUUGUUCAAUGGGAGCCUGCCCCCACGCUAUCUAUCCCUUAAUGGGAGUGGACUCGUUUGCGCUAUUAGAAACUCCUUUCCCAGCUCCUGUCUUCAAUUAUGUAAGGCGACUCUGCCUAGAGAGCCCCGCUCCAACGCAAGCAGGUGCGCUAACGCGCAUAGGCACCUCAAGUCGCUCAAGAUUUAAUUCGCGCAAGUCUCAAAGCUGGAUAACAUUGGAUGUCCCGCAGGCAACCCCUGGCCGCGAUCUGUCUAUCGCUUGUGAUUCUUGCAGAUGGAUUAACAUAGUACAGCGAUCGGCUACACGUAGCAAAUAUCCAUCAGGGCUGCACAGCUCCGUGAUUCGUUUUGGGUUCAAGAGUCAGGCAGCGGGACUAUAUUGCCCGAUCGGUAUUCUAUGCUUGAUCGUCUUAAGUGACCCGUGGCUCCUGCUGAGGAUAACAAAUCUUAUUUCCUUAUACACGGCGGACACACGUCUCUAUGCUACUUCCCGACUUUUAUUGGCCCUGGUCGCGUGUUCACAAUGUUGGCGCCAAAGAAAGAUUCGAGCCACAGAUUUGCGGUCUCCUUUUGGAAUUGUAAGCGCGACUGGUCGAGUAUGCGACUCCGACGCAAGCCUAGACUGUACUCCUCGGCUGAACUCAAAAGCAAAACAAAUAAGAUGGGGGCCACAGUCAUCAGGUCGGAAGCUCAACUUCACGUACAAGGGUAGGGACAUGUUGAUGAUAGGUUCAACGUCUGGGUUCGUGGCGAGCCAGUUUAGACCAAGGGCUCAAAAUCCGCCGUCAUCGUUACCGUACUUGUGUCGGCUGGGGCACACCAAGCUGACAAUUGAGAAUGCUACAUACGGUUGGUCCAUGGUCUCACUCAGUUGUAGAGCUUAUGGGGAAUAUAAAACCAAGUACAUGCUUGUUAGCCGUCCUUAUAAUAGUCUAAUAGUAUGUAUGACCUUUUGGGUUUCCGACAUCGGUUACUACCAGGGGAGAAACAGACAGCCAUACCAUACCACAGAACGAUAUCGGGAUAACCCUUCAAGAGCGUUGCCAGGCUGCGUACUCCGCGAAGGCUCCCUAAGAAUCCGCAAUGAAUGUGGAGCGCGCUCUUCGUUUCUACCUCUUGGAGUUACUCCCUUCACAAAAGAUGCUGCUUCUCAAUCGCGUAAAUUGAAGGAGCGCUUCACAGACACGGUGAAUAAGAGGGACGAACACAAUACUAGGUUGUUCACGCCGAAUCCCCUAGGUGACUCGACCACGCGGCAAUCUACCCUCGUAAAAAUAUCACUUUCGCGGCAACUCACUAUGGACGUGAAGACGGCGAGUUAUCAGUUGAUGCGAACCGCGGGCAUAGGUCUCGUUGUGAGAUUCACCUUGAAGAACCCAGCUUAUCCCGAUCUACGUGGAAUGCUGGCCGGGACAUACUACGCCAACCGCGAGGAUAUAAGAGUAGUCGAAAAAGACAGUAAGGAUCGCAUAUCCCUAAGGCUCGACAGCGUGAAUCUGUGCUUACCGAGCAGGAUCGUACAUCAACACUGUGUGGUAAGGAUUUGCACUGAUCUAGAGUCGGUGGUACCAUCUCGGGUGGAACUAUCCCGCACAACGGGGAACGAACGGCAUAAAACCCUCACCUACAAAGGUGCGGUCAAAGCCAAACCAAGGCUCGUAGUCGAAAAAUCCCGGGUUCCUGUCCAAGGAAUUACGUUAAACGGUCCUGGCGGACUACCAGGUAAGCUAAGGAACACGGGUUUUGAUGUUAGUAUUCAACUCCCCAUAAUUCACGAGGAAAUGGUGAGCUACGCCCACUGUACGGUAAGGGUAGAGAUAGGAAAUCUUAUGAAGAGUCGCUUUCGACUCCCUAGAUCGCGAGCCACGGUGUGCUGUGAAAUGGUGGUCUGCAUGCCGAGCCUAGACAGAACCCCCGACCGUGUAUCUUUAAGAACUUCCAGAGCGGCUUGUUCAGUCUGCCUUUCAAUGAAAUCCGUGAGCGUUAUCAUUCAAGGACUGCCCACCCAUCUUCAGCGAACCACCACGUGCCCACCGGUAAAUCGCCAGACUGUUGCAAGAACGCUGGUAUCUGACUUGUCAAAGUGUGAACGAAAAGACCUUGACAGACUCGGAAAUACAAGGACAAUAGCAUGGAAUGAGCUACCCGCUCUGGAUCGAAGCCUCCGCCAAUAUAAUCGCAACUUUCUUGACAAUAACGCCCUACGAUGUAUUCGGGGCUUCGUCAUGUACGAAAAGUCAAUGGGCAACGCUAUUAGCCAUGGUUCGAUAUCACUUGCUGCAACUUACAAACCCCCCCGAAGCGACCGGCGUGGUUCUCCGCUCUGUAUAGUAGACCGCUCCGUGCUUGUUUCUACUAGUUUUCAUAGAGCAAAGGGCUUCCCAGGUGGGCCUGCACCGCGUUCCGGCAUUGCAAACAUAUGGAACAUCGAUAACGUUUGUCUAAAUUCAAUACAGAAAGCCGCUCUCGGUCCACGGUGCACUGAAAAUGUGAAACACUCUCAGUCCUCGGAGCCUUUUUAG'\n",
        "rna_codon = {'UUU':'F', 'CUU': 'L', 'AUU': 'I', 'GUU': 'V', 'UUC': 'F', 'CUC': 'L', 'AUC': 'I', 'GUC': 'V',\n",
        "              'UUA': 'L', 'CUA': 'L', 'AUA': 'I', 'GUA': 'V', 'UUG': 'L', 'CUG': 'L', 'AUG': 'M', 'GUG': 'V',\n",
        "              'UCU': 'S', 'CCU': 'P', 'ACU': 'T', 'GCU': 'A', 'UCC': 'S', 'CCC': 'P', 'ACC': 'T', 'GCC': 'A',\n",
        "              'UCA': 'S', 'CCA': 'P', 'ACA': 'T', 'GCA': 'A', 'UCG': 'S', 'CCG': 'P', 'ACG': 'T', 'GCG': 'A',\n",
        "              'UAU': 'Y', 'CAU': 'H', 'AAU': 'N', 'GAU': 'D', 'UAC': 'Y', 'CAC': 'H', 'AAC': 'N', 'GAC': 'D',\n",
        "              'UAA': 'Stop', 'CAA': 'Q', 'AAA': 'K', 'GAA': 'E', 'UAG': 'Stop', 'CAG': 'Q', 'AAG': 'K', 'GAG': 'E',\n",
        "              'UGU': 'C', 'CGU': 'R', 'AGU': 'S', 'GGU': 'G', 'UGC': 'C', 'CGC': 'R', 'AGC': 'S', 'GGC': 'G',\n",
        "              'UGA': 'Stop', 'CGA': 'R', 'AGA': 'R', 'GGA': 'G', 'UGG': 'W', 'CGG': 'R', 'AGG': 'R', 'GGG': 'G' }\n",
        "# rna = list(rna)\n",
        "result = ''\n",
        "for i in range(0, len(rna), 3):\n",
        "  if rna[i:i+3] in rna_codon:\n",
        "    if not rna_codon[rna[i:i+3]] == 'Stop':\n",
        "      result += rna_codon[rna[i:i+3]]\n",
        "\n",
        "print(result)\n"
      ],
      "execution_count": 0,
      "outputs": []
    },
    {
      "cell_type": "code",
      "metadata": {
        "id": "dRi7KnErecT_",
        "colab_type": "code",
        "colab": {}
      },
      "source": [
        "# Finding a Motif in DNA\n",
        "DNA = 'TAGAGAGTGGAAGAGAGTAAGAGAGTAGAGAGTGGAGAGAGTCAAGAGAGTTAGAGAGTAGAGAGTAGAGAGTTCGAAAGAGAGTAGAGAGTCAGAGAGTGAGAGAGTATGCGTAGAGAGTTCTTTCAGAGAGAGTAGAGAGTAGAGAGTTTAAGAGAGTGCAGAGAGTTGCAGAGAGTCGAGAGAGTAGAGAGTCGCGTGGAGAGAGTTTAAGAGAGTTAGAGAGTACCAGAGGAGAGAGTTAAGAGAGTGTCAGAGAGTTAGAGAGTTAAATGAATAGCGGCAGAGAGTGAGAGAGTATCAGAGAGTTGTCCGTAAGAGAGTAGAGAGTAGAGAGTGAGAGAGTCAGAGAGTCGAAGAGAGTCTAAAGAGAGTAGACTCGTAGAGAGTAAAGAGAGTAAGAGAGTAAGAGAGTGAGAGAGTAGAGAGTGGACAGTACAGAGAGTTACTGCCAGAGAGTTAGAGAGTACCAGAGAGTCGAGTTTTCTAAGAGAGTCAGAGAGTACGGGAAGAGAGTAGAGAGTAAGAGAGTAAAAGAGAGTCTAGAGAGTTCGAGAGAGTATAGAGAGTAACAGAGAGTAAGAGAGAGTTTGGCGGAGAGAGTAGAGAGTATGAATCAGAGAGTGTTAGAGAGTTATGACTTAGAGAGTAGAGAGTAGAGAGTTAGAGAGTAGAGAGTATGATTCGCAGAGAGTAATCAGAGAGAGTGCGAGAGAGTAAAGAGAGTTAAAGAGAGTGAAGAGAGTAGAGAGTCAAAGAGAGTAGAGAGTAAGAGAGTAATACAGAGAGTAGACGCCTTGAGAGAGTTCAGAGAGTAACCAGAGAGTAGAGAGTCAGAGAGTTATTCCGGCAGAGAGTCTAGAGAGT'\n",
        "motif = 'AGAGAGTAG'\n",
        "def finding_motif(DNA, motif):\n",
        "  len_dna, len_motif = len(DNA),len(motif)\n",
        "  result = []\n",
        "  for i in range(1, len_dna - len_motif):\n",
        "    if len_dna[i:i + len_motif] == motif:\n",
        "      result.append(i)        \n",
        "  return result\n",
        " \n",
        "find_motif(DNA, motif)"
      ],
      "execution_count": 0,
      "outputs": []
    },
    {
      "cell_type": "code",
      "metadata": {
        "id": "0VrQeeKPm1-D",
        "colab_type": "code",
        "colab": {}
      },
      "source": [
        "# Fibonacci sequence\n",
        "def fibonacci(n):\n",
        "  parent, child = 1, 1\n",
        "  for i in range(n):\n",
        "    child, parent = parent, parent + child\n",
        "  return child\n",
        "\n",
        "for i in range(10):\n",
        "  print(fibonacci(i))"
      ],
      "execution_count": 0,
      "outputs": []
    },
    {
      "cell_type": "code",
      "metadata": {
        "id": "qd5dy0mRoFFA",
        "colab_type": "code",
        "colab": {}
      },
      "source": [
        "# Fibonacci sequence with multiple children optimized\n",
        "def fibonacci(n, k):\n",
        "  parent, child, result = 1, 1, 0\n",
        "  for i in range(1, n + 1):\n",
        "    print(i)\n",
        "    if i == 1 or i == 2:\n",
        "      result = parent\n",
        "      print('The result is: ', result)\n",
        "    else:\n",
        "      result = child * k + parent\n",
        "      child, parent = parent, result\n",
        "      print('The result is: ', result)\n",
        "  return result\n",
        "print(fibonacci(5, 3))"
      ],
      "execution_count": 0,
      "outputs": []
    },
    {
      "cell_type": "code",
      "metadata": {
        "id": "Rmdsk5p4ecXf",
        "colab_type": "code",
        "colab": {}
      },
      "source": [
        "# Calculate minimum skew\n",
        "import numpy as np\n",
        "\n",
        "dna = 'GTCCGTCCGAGGGAAATTGCGCATTCTGG'\n",
        "d = {'A': 0, 'C': -1, 'G': 1, 'T': 0}\n",
        "a = np.cumsum([d[bp] for bp in dna])\n",
        "print(np.where(a == min(a)))"
      ],
      "execution_count": 0,
      "outputs": []
    },
    {
      "cell_type": "code",
      "metadata": {
        "id": "INfPcovDecaG",
        "colab_type": "code",
        "colab": {}
      },
      "source": [
        "# Hidden Markov Models\n",
        "transitions = {('A', 'A'): 0.193, ('A', 'B'): 0.807, ('B', 'A'): 0.625, ('B', 'B'): 0.375}\n",
        "dna = 'BABBABBABABABBABABABABABABBABBABABABABAAABBABABBABBBA'\n",
        "\n",
        "result = 0.5\n",
        "for ch in zip(dna, dna[1:]):\n",
        "  reult *= transitions[(ch[0], ch[1])]\n",
        "\n",
        "print(result)"
      ],
      "execution_count": 0,
      "outputs": []
    },
    {
      "cell_type": "code",
      "metadata": {
        "id": "0RzELqd2ecRh",
        "colab_type": "code",
        "colab": {}
      },
      "source": [
        ""
      ],
      "execution_count": 0,
      "outputs": []
    }
  ]
}