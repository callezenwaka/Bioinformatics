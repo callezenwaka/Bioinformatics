{
 "cells": [
  {
   "cell_type": "markdown",
   "metadata": {},
   "source": [
    "# Bioinfoermatics Database"
   ]
  },
  {
   "cell_type": "markdown",
   "metadata": {},
   "source": [
    "## Import library"
   ]
  },
  {
   "cell_type": "code",
   "execution_count": 1,
   "metadata": {},
   "outputs": [],
   "source": [
    "# Import library\n",
    "from Bio import SeqIO"
   ]
  },
  {
   "cell_type": "markdown",
   "metadata": {},
   "source": [
    "## Import and parse dataset"
   ]
  },
  {
   "cell_type": "code",
   "execution_count": 2,
   "metadata": {},
   "outputs": [],
   "source": [
    "# Import dataset\n",
    "genbank_file = \"sequence.gb\"\n",
    "record = SeqIO.read(genbank_file, \"genbank\")"
   ]
  },
  {
   "cell_type": "markdown",
   "metadata": {},
   "source": [
    "## Extract metadata and sequence from dataset"
   ]
  },
  {
   "cell_type": "code",
   "execution_count": 3,
   "metadata": {},
   "outputs": [
    {
     "name": "stdout",
     "output_type": "stream",
     "text": [
      "Record ID: LT934502.1\n",
      "Record description: Homo sapiens mRNA for KIR3DL2 protein (KIR3DL2 gene), isolate human, allele KIR3DL2-011:01\n",
      "Organism: Homo sapiens\n",
      "Sequence length: 1368\n",
      "Sequence (first 100 bases): ATGTCGCTCACGGTCGTCAGCATGGCGTGCGTTGGGTTCTTCTTGCTGCAGGGGGCCTGGCCACTCATGGGTGGTCAGGACAAACCCTTCCTGTCTGCCC\n"
     ]
    }
   ],
   "source": [
    "# Extract dataset\n",
    "print(f\"Record ID: {record.id}\")\n",
    "print(f\"Record description: {record.description}\")\n",
    "print(f\"Organism: {record.annotations['organism']}\")\n",
    "print(f\"Sequence length: {len(record.seq)}\")\n",
    "print(f\"Sequence (first 100 bases): {record.seq[:100]}\")"
   ]
  },
  {
   "cell_type": "markdown",
   "metadata": {},
   "source": [
    "## Save sequence to a FASTA file"
   ]
  },
  {
   "cell_type": "code",
   "execution_count": 4,
   "metadata": {},
   "outputs": [
    {
     "name": "stdout",
     "output_type": "stream",
     "text": [
      "Sequence saved in genbank format as BRCA1.fasta\n"
     ]
    }
   ],
   "source": [
    "# Save sequence\n",
    "with open(\"BRCA1.genbank\", \"w\") as genbank_file:\n",
    "    SeqIO.write(record, genbank_file, \"genbank\")\n",
    "\n",
    "print(\"Sequence saved in genbank format as BRCA1.fasta\")"
   ]
  },
  {
   "cell_type": "markdown",
   "metadata": {},
   "source": [
    "# Web Scraping in Python"
   ]
  },
  {
   "cell_type": "markdown",
   "metadata": {},
   "source": [
    "## Import library"
   ]
  },
  {
   "cell_type": "code",
   "execution_count": 1,
   "metadata": {},
   "outputs": [],
   "source": [
    "# Import library\n",
    "import requests"
   ]
  },
  {
   "cell_type": "markdown",
   "metadata": {},
   "source": [
    "## Setup requests"
   ]
  },
  {
   "cell_type": "code",
   "execution_count": 12,
   "metadata": {},
   "outputs": [],
   "source": [
    "# Set request parameters\n",
    "\"\"\"\n",
    "The E-utilities API (efetch.fcgi).\n",
    "\n",
    "The E-utilities URL needs parameters to specify what you want to fetch. At minimum, it needs:\n",
    "- db (database)\n",
    "- id (the sequence identifier)\n",
    "- rettype (return type)\n",
    "- retmode (return mode)\n",
    "\n",
    "For example, to fetch LT934502.1 in FASTA format using the web interface (nuccore) https://ncbi.nlm.nih.gov/nuccore/LT934502.1?report=fasta&log$=seqview&format=text requires:\n",
    "```\n",
    "https://eutils.ncbi.nlm.nih.gov/entrez/eutils/efetch.fcgi?db=nuccore&id=LT934502.1&rettype=fasta&retmode=text\n",
    "```\n",
    "\"\"\"\n",
    "\n",
    "# url = \"https://eutils.ncbi.nlm.nih.gov/entrez/eutils/efetch.fcgi\"\n",
    "url = \"https://eutils.ncbi.nlm.nih.gov/entrez/eutils/efetch.fcgi\"\n",
    "\n",
    "# params = {\n",
    "#     \"db\": \"nucleotide\", # Database\n",
    "#     \"id\": \"NM_007294\", # Accession number\n",
    "#     \"rettype\": \"fasta\", # Return type\n",
    "#     \"retmode\": \"text\", # Return mode\n",
    "# }\n",
    "\n",
    "params = {\n",
    "    \"db\": \"nuccore\", # Database\n",
    "    \"id\": \"LT934502\", # Accession number\n",
    "    \"rettype\": \"fasta\", # Return type\n",
    "    \"retmode\": \"text\", # Return mode\n",
    "}"
   ]
  },
  {
   "cell_type": "markdown",
   "metadata": {},
   "source": [
    "## Fetch the sequence"
   ]
  },
  {
   "cell_type": "code",
   "execution_count": null,
   "metadata": {},
   "outputs": [
    {
     "name": "stdout",
     "output_type": "stream",
     "text": [
      "FASTA Data:\n",
      ">LT934502.1 Homo sapiens mRNA for KIR3DL2 protein (KIR3DL2 gene), isolate human, allele KIR3DL2-011:01\n",
      "ATGTCGCTCACGGTCGTCAGCATGGCGTGCGTTGGGTTCTTCTTGCTGCAGGGGGCCTGGCCACTCATGG\n",
      "GTGGTCAGGACAAACCCTTCCTGTCTGCCCGGCCCAGCACTGTGGTGCCTCGAGGAGGACACGTGGCTCT\n",
      "TCAGTGTCACTATCGTCGTGGGTTTAACAATTTCATGCTGTACAAAGAAGACAGAAGCCACGTTCCCATC\n",
      "TTCCACGGCAGAATATTCCAGGAGAGCTTCATCATGGGCCCTGTGACCCCAGCACATGCAGGGACCTACA\n",
      "GATGTCGGGGTTCACGCCCACACTCCCTCACTGGGTGGTCGGCACCCAGCAACCCCGTGGTGATCATGGT\n",
      "CACAGGAAACCACAGAAAACCTTCCCTCCTGGCCCACCCAGG...\n"
     ]
    }
   ],
   "source": [
    "# Fetch sequence\n",
    "response = requests.get(url, params=params)\n",
    "\n",
    "if response.status_code == 200:\n",
    "    fasta_data = response.text\n",
    "    print(f\"FASTA Data:\\n{fasta_data[:500]}...\") # print the first 500 characters\n",
    "else:\n",
    "    print(f\"Failed to fetch data. Status code: {response.status_code}\")\n",
    "\n"
   ]
  }
 ],
 "metadata": {
  "kernelspec": {
   "display_name": ".bioinformatics",
   "language": "python",
   "name": "python3"
  },
  "language_info": {
   "codemirror_mode": {
    "name": "ipython",
    "version": 3
   },
   "file_extension": ".py",
   "mimetype": "text/x-python",
   "name": "python",
   "nbconvert_exporter": "python",
   "pygments_lexer": "ipython3",
   "version": "3.10.4"
  }
 },
 "nbformat": 4,
 "nbformat_minor": 2
}
