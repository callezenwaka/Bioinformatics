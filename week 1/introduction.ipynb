{
 "cells": [
  {
   "cell_type": "markdown",
   "metadata": {},
   "source": [
    "# Intro to Python Basics"
   ]
  },
  {
   "cell_type": "markdown",
   "metadata": {},
   "source": [
    "## Simple script"
   ]
  },
  {
   "cell_type": "code",
   "execution_count": 1,
   "metadata": {},
   "outputs": [
    {
     "name": "stdout",
     "output_type": "stream",
     "text": [
      "Hello world!\n"
     ]
    }
   ],
   "source": [
    "# Simple script\n",
    "message = \"Hello world!\"\n",
    "print(message)"
   ]
  },
  {
   "cell_type": "code",
   "execution_count": 2,
   "metadata": {},
   "outputs": [
    {
     "name": "stdout",
     "output_type": "stream",
     "text": [
      "You are an adult!\n"
     ]
    }
   ],
   "source": [
    "# Comments\n",
    "\n",
    "# statement\n",
    "age = 18\n",
    "if age >= 18:\n",
    "    print(\"You are an adult!\")\n",
    "elif age < 18 and age >= 13:\n",
    "    print(\"You are a teenager!\")\n",
    "else:\n",
    "    print(\"You are a child!\")"
   ]
  },
  {
   "cell_type": "markdown",
   "metadata": {},
   "source": [
    "## Operators"
   ]
  },
  {
   "cell_type": "code",
   "execution_count": 3,
   "metadata": {},
   "outputs": [],
   "source": [
    "# Assignment operators\n",
    "x = 10\n",
    "x += 5 # Equivalent to x = x + 5\n",
    "x -= 5 # Equivalent to x = x - 5\n",
    "x *= 5 # Equivalent to x = x * 5\n",
    "x /= 5 # Equivalent to x = x / 5\n",
    "x %= 5 # Equivalent to x = x % 5\n",
    "x //= 5 # Equivalent to x = x // 5\n",
    "x **= 5 # Equivalent to x = x ** 5"
   ]
  },
  {
   "cell_type": "code",
   "execution_count": 4,
   "metadata": {},
   "outputs": [],
   "source": [
    "# Comparison operators\n",
    "x = 10\n",
    "y = 5\n",
    "\n",
    "equal = (x == y) # False\n",
    "not_equal = (x != y) # True\n",
    "greater_than = (x > y) # True\n",
    "less_than = (x < y) # False\n",
    "greater_than_equal = (x >= y) # True\n",
    "less_than_equal = (x <= y) # False"
   ]
  },
  {
   "cell_type": "code",
   "execution_count": 5,
   "metadata": {},
   "outputs": [],
   "source": [
    "# Logical operators\n",
    "a = True\n",
    "b = False\n",
    "\n",
    "logical_and = a and b # False\n",
    "logical_or = a or b # True\n",
    "logical_not = not b # False"
   ]
  },
  {
   "cell_type": "code",
   "execution_count": 6,
   "metadata": {},
   "outputs": [
    {
     "name": "stdout",
     "output_type": "stream",
     "text": [
      "age:  10\n"
     ]
    }
   ],
   "source": [
    "# Assignment\n",
    "age = 10\n",
    "print(\"age: \", age)"
   ]
  },
  {
   "cell_type": "code",
   "execution_count": 7,
   "metadata": {},
   "outputs": [],
   "source": [
    "# Variables\n",
    "a = 10\n",
    "b = \"name\"\n",
    "c = 5.0"
   ]
  },
  {
   "cell_type": "code",
   "execution_count": 8,
   "metadata": {},
   "outputs": [],
   "source": [
    "# Simple arithmatics\n",
    "x = 100\n",
    "y = 200"
   ]
  },
  {
   "cell_type": "code",
   "execution_count": 9,
   "metadata": {},
   "outputs": [
    {
     "name": "stdout",
     "output_type": "stream",
     "text": [
      "z:  300\n"
     ]
    }
   ],
   "source": [
    "# Addition\n",
    "z = x + y\n",
    "print(\"z: \", z)"
   ]
  },
  {
   "cell_type": "code",
   "execution_count": 10,
   "metadata": {},
   "outputs": [
    {
     "name": "stdout",
     "output_type": "stream",
     "text": [
      "z:  -100\n"
     ]
    }
   ],
   "source": [
    "# Subtraction\n",
    "z = x - y\n",
    "print(\"z: \", z)"
   ]
  },
  {
   "cell_type": "code",
   "execution_count": 11,
   "metadata": {},
   "outputs": [
    {
     "name": "stdout",
     "output_type": "stream",
     "text": [
      "z:  20000\n"
     ]
    }
   ],
   "source": [
    "# Multiplication\n",
    "z = x * y\n",
    "print(\"z: \", z)"
   ]
  },
  {
   "cell_type": "code",
   "execution_count": 12,
   "metadata": {},
   "outputs": [
    {
     "name": "stdout",
     "output_type": "stream",
     "text": [
      "z:  0.5\n"
     ]
    }
   ],
   "source": [
    "# Division\n",
    "z = x / y\n",
    "print(\"z: \", z)"
   ]
  },
  {
   "cell_type": "markdown",
   "metadata": {},
   "source": [
    "## Function in Python"
   ]
  },
  {
   "cell_type": "code",
   "execution_count": 13,
   "metadata": {},
   "outputs": [],
   "source": [
    "# Function definition\n",
    "def calculate_area(radius):\n",
    "    return PI * radius * radius\n",
    "\n",
    "def say_hello(name):\n",
    "    print(f'Hello, {name}')"
   ]
  },
  {
   "cell_type": "code",
   "execution_count": 14,
   "metadata": {},
   "outputs": [
    {
     "name": "stdout",
     "output_type": "stream",
     "text": [
      "Hello, John Doe\n"
     ]
    }
   ],
   "source": [
    "# Call function\n",
    "say_hello(\"John Doe\")"
   ]
  },
  {
   "cell_type": "code",
   "execution_count": 15,
   "metadata": {},
   "outputs": [],
   "source": [
    "from datetime import datetime\n",
    "\n",
    "def greet_user(name):\n",
    "    current_hour = datetime.now().hour\n",
    "\n",
    "    if current_hour < 12:\n",
    "        greeting = \"Good morning\"\n",
    "    elif 12 <= current_hour < 18:\n",
    "        greeting = \"Good afternoon\"\n",
    "    else:\n",
    "        greeting = \"Good evening\"\n",
    "    \n",
    "    return f\"{greeting}, {name}!\""
   ]
  },
  {
   "cell_type": "code",
   "execution_count": 16,
   "metadata": {},
   "outputs": [
    {
     "data": {
      "text/plain": [
       "'Good morning, John Doe!'"
      ]
     },
     "execution_count": 16,
     "metadata": {},
     "output_type": "execute_result"
    }
   ],
   "source": [
    "greet_user(\"John Doe\")"
   ]
  },
  {
   "cell_type": "markdown",
   "metadata": {},
   "source": [
    "## Loops"
   ]
  },
  {
   "cell_type": "code",
   "execution_count": 17,
   "metadata": {},
   "outputs": [
    {
     "name": "stdout",
     "output_type": "stream",
     "text": [
      "Current numb er is: 1\n",
      "Current numb er is: 2\n",
      "Current numb er is: 3\n",
      "Current numb er is: 4\n",
      "Current numb er is: 5\n"
     ]
    }
   ],
   "source": [
    "# Loop - For\n",
    "fruits = []\n",
    "for fruit in fruits:\n",
    "    print(fruit)\n",
    "\n",
    "numbers = [1, 2, 3, 4, 5]\n",
    "for number in numbers:\n",
    "    print(f\"Current numb er is: {number}\")"
   ]
  },
  {
   "cell_type": "code",
   "execution_count": 18,
   "metadata": {},
   "outputs": [
    {
     "name": "stdout",
     "output_type": "stream",
     "text": [
      "Count is: 0\n",
      "Count is: 1\n",
      "Count is: 2\n",
      "Count is: 3\n",
      "Count is: 4\n",
      "Count is: 5\n"
     ]
    }
   ],
   "source": [
    "# Loop - While\n",
    "count = 0\n",
    "while count <= 5:\n",
    "    print(f\"Count is: {count}\")\n",
    "    count += 1"
   ]
  },
  {
   "cell_type": "markdown",
   "metadata": {},
   "source": [
    "## Data Types"
   ]
  },
  {
   "cell_type": "code",
   "execution_count": 19,
   "metadata": {},
   "outputs": [],
   "source": [
    "# Variables and data types\n",
    "customer_name = \"John Doe\"  # String\n",
    "age = 30                    # Interger\n",
    "purchase_amount = 99.99     # Float\n",
    "is_member = True            # Boolean"
   ]
  },
  {
   "cell_type": "code",
   "execution_count": 20,
   "metadata": {},
   "outputs": [
    {
     "name": "stdout",
     "output_type": "stream",
     "text": [
      "The customer name is John Doe\n"
     ]
    }
   ],
   "source": [
    "# Use string data types\n",
    "print(f\"The customer name is {customer_name}\")"
   ]
  },
  {
   "cell_type": "code",
   "execution_count": 21,
   "metadata": {},
   "outputs": [
    {
     "name": "stdout",
     "output_type": "stream",
     "text": [
      "The customer age is 30\n"
     ]
    }
   ],
   "source": [
    "# Use interger data types\n",
    "print(f\"The customer age is {age}\")"
   ]
  },
  {
   "cell_type": "code",
   "execution_count": 22,
   "metadata": {},
   "outputs": [
    {
     "name": "stdout",
     "output_type": "stream",
     "text": [
      "The customer purchase amount is 99.99\n"
     ]
    }
   ],
   "source": [
    "# Use float data types\n",
    "print(f\"The customer purchase amount is {purchase_amount}\")"
   ]
  },
  {
   "cell_type": "code",
   "execution_count": 23,
   "metadata": {},
   "outputs": [
    {
     "name": "stdout",
     "output_type": "stream",
     "text": [
      "Is the customer a member?: True\n"
     ]
    }
   ],
   "source": [
    "# Use boolean data types\n",
    "print(f\"Is the customer a member?: {is_member}\")"
   ]
  },
  {
   "cell_type": "code",
   "execution_count": 24,
   "metadata": {},
   "outputs": [],
   "source": [
    "# More boolean data types\n",
    "if x == 10:\n",
    "    print(\"x is\", x)"
   ]
  }
 ],
 "metadata": {
  "kernelspec": {
   "display_name": ".algorithms",
   "language": "python",
   "name": "python3"
  },
  "language_info": {
   "codemirror_mode": {
    "name": "ipython",
    "version": 3
   },
   "file_extension": ".py",
   "mimetype": "text/x-python",
   "name": "python",
   "nbconvert_exporter": "python",
   "pygments_lexer": "ipython3",
   "version": "3.10.4"
  }
 },
 "nbformat": 4,
 "nbformat_minor": 2
}
